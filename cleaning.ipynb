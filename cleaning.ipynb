{
 "cells": [
  {
   "cell_type": "markdown",
   "id": "filled-values",
   "metadata": {},
   "source": [
    "# Import necessary libraries"
   ]
  },
  {
   "cell_type": "code",
   "execution_count": 1,
   "id": "employed-radar",
   "metadata": {},
   "outputs": [],
   "source": [
    "#import necessary libraries\n",
    "import pandas as pd\n",
    "import numpy as np\n",
    "import os\n",
    "import random as rand"
   ]
  },
  {
   "cell_type": "markdown",
   "id": "united-complexity",
   "metadata": {},
   "source": [
    "# Custom functions that we will use during this project"
   ]
  },
  {
   "cell_type": "code",
   "execution_count": 2,
   "id": "legitimate-picture",
   "metadata": {},
   "outputs": [],
   "source": [
    "#create a function to find outliers using IQR\n",
    "def find_outliers_IQR(df):\n",
    "    #this function takes a dataframe or only a column and calculates outliers for each value based on IQR\n",
    "    q1=df.quantile(0.25) # variable for the first quartile\n",
    "    q3=df.quantile(0.75) #variable for the third quartile\n",
    "    IQR=q3-q1 #calculate the IQR\n",
    "    outliers = df[((df<(q1-1.5*IQR)) | (df>(q3+1.5*IQR)))] #calculate outliers for every value and put them in a series\n",
    "    return outliers\n",
    "\n",
    "#Range function\n",
    "def range_column(df):\n",
    "    max = df.max()\n",
    "    min = df.min()\n",
    "    range = max-min\n",
    "    return range"
   ]
  },
  {
   "cell_type": "markdown",
   "id": "cleared-archives",
   "metadata": {},
   "source": [
    "# Import the raw data via pandas"
   ]
  },
  {
   "cell_type": "code",
   "execution_count": 3,
   "id": "ignored-passage",
   "metadata": {},
   "outputs": [],
   "source": [
    "#read the excel file and create a data frame\n",
    "dataFrame = pd.read_excel('movie_data.xlsx')"
   ]
  },
  {
   "cell_type": "markdown",
   "id": "arbitrary-hurricane",
   "metadata": {},
   "source": [
    "# Display descriptive and technical info about the raw, dirty data"
   ]
  },
  {
   "cell_type": "code",
   "execution_count": 4,
   "id": "special-robertson",
   "metadata": {},
   "outputs": [
    {
     "data": {
      "text/html": [
       "<div>\n",
       "<style scoped>\n",
       "    .dataframe tbody tr th:only-of-type {\n",
       "        vertical-align: middle;\n",
       "    }\n",
       "\n",
       "    .dataframe tbody tr th {\n",
       "        vertical-align: top;\n",
       "    }\n",
       "\n",
       "    .dataframe thead th {\n",
       "        text-align: right;\n",
       "    }\n",
       "</style>\n",
       "<table border=\"1\" class=\"dataframe\">\n",
       "  <thead>\n",
       "    <tr style=\"text-align: right;\">\n",
       "      <th></th>\n",
       "      <th>genre</th>\n",
       "      <th>gross</th>\n",
       "      <th>cost</th>\n",
       "      <th>no_of_viewer</th>\n",
       "      <th>year</th>\n",
       "      <th>duration</th>\n",
       "      <th>outside</th>\n",
       "      <th>netflix</th>\n",
       "      <th>rating</th>\n",
       "    </tr>\n",
       "  </thead>\n",
       "  <tbody>\n",
       "    <tr>\n",
       "      <th>0</th>\n",
       "      <td>Action</td>\n",
       "      <td>2.556502e+06</td>\n",
       "      <td>7.432357e+06</td>\n",
       "      <td>NaN</td>\n",
       "      <td>2010.0</td>\n",
       "      <td>292.221364</td>\n",
       "      <td>no</td>\n",
       "      <td>yes</td>\n",
       "      <td>3.111750</td>\n",
       "    </tr>\n",
       "    <tr>\n",
       "      <th>1</th>\n",
       "      <td>NaN</td>\n",
       "      <td>1.991826e+07</td>\n",
       "      <td>2.148195e+07</td>\n",
       "      <td>1.330288e+07</td>\n",
       "      <td>2014.0</td>\n",
       "      <td>290.725164</td>\n",
       "      <td>yes</td>\n",
       "      <td>no</td>\n",
       "      <td>6.194811</td>\n",
       "    </tr>\n",
       "    <tr>\n",
       "      <th>2</th>\n",
       "      <td>Adventure</td>\n",
       "      <td>1.456786e+07</td>\n",
       "      <td>1.747146e+07</td>\n",
       "      <td>1.136820e+07</td>\n",
       "      <td>2021.0</td>\n",
       "      <td>259.883566</td>\n",
       "      <td>no</td>\n",
       "      <td>YeS</td>\n",
       "      <td>5.265078</td>\n",
       "    </tr>\n",
       "    <tr>\n",
       "      <th>3</th>\n",
       "      <td>Drama</td>\n",
       "      <td>1.855628e+07</td>\n",
       "      <td>1.991671e+07</td>\n",
       "      <td>1.272027e+07</td>\n",
       "      <td>2016.0</td>\n",
       "      <td>275.505929</td>\n",
       "      <td>yes</td>\n",
       "      <td>NaN</td>\n",
       "      <td>5.921890</td>\n",
       "    </tr>\n",
       "    <tr>\n",
       "      <th>4</th>\n",
       "      <td>Adventure</td>\n",
       "      <td>1.393263e+07</td>\n",
       "      <td>NaN</td>\n",
       "      <td>1.105232e+07</td>\n",
       "      <td>NaN</td>\n",
       "      <td>263.948467</td>\n",
       "      <td>NaN</td>\n",
       "      <td>yes</td>\n",
       "      <td>5.119858</td>\n",
       "    </tr>\n",
       "  </tbody>\n",
       "</table>\n",
       "</div>"
      ],
      "text/plain": [
       "       genre         gross          cost  no_of_viewer    year    duration  \\\n",
       "0     Action  2.556502e+06  7.432357e+06           NaN  2010.0  292.221364   \n",
       "1        NaN  1.991826e+07  2.148195e+07  1.330288e+07  2014.0  290.725164   \n",
       "2  Adventure  1.456786e+07  1.747146e+07  1.136820e+07  2021.0  259.883566   \n",
       "3      Drama  1.855628e+07  1.991671e+07  1.272027e+07  2016.0  275.505929   \n",
       "4  Adventure  1.393263e+07           NaN  1.105232e+07     NaN  263.948467   \n",
       "\n",
       "  outside netflix    rating  \n",
       "0      no     yes  3.111750  \n",
       "1     yes      no  6.194811  \n",
       "2      no     YeS  5.265078  \n",
       "3     yes     NaN  5.921890  \n",
       "4     NaN     yes  5.119858  "
      ]
     },
     "execution_count": 4,
     "metadata": {},
     "output_type": "execute_result"
    }
   ],
   "source": [
    "#display the head\n",
    "dataFrame.head()"
   ]
  },
  {
   "cell_type": "code",
   "execution_count": 5,
   "id": "direct-evans",
   "metadata": {},
   "outputs": [
    {
     "data": {
      "text/html": [
       "<div>\n",
       "<style scoped>\n",
       "    .dataframe tbody tr th:only-of-type {\n",
       "        vertical-align: middle;\n",
       "    }\n",
       "\n",
       "    .dataframe tbody tr th {\n",
       "        vertical-align: top;\n",
       "    }\n",
       "\n",
       "    .dataframe thead th {\n",
       "        text-align: right;\n",
       "    }\n",
       "</style>\n",
       "<table border=\"1\" class=\"dataframe\">\n",
       "  <thead>\n",
       "    <tr style=\"text-align: right;\">\n",
       "      <th></th>\n",
       "      <th>genre</th>\n",
       "      <th>gross</th>\n",
       "      <th>cost</th>\n",
       "      <th>no_of_viewer</th>\n",
       "      <th>year</th>\n",
       "      <th>duration</th>\n",
       "      <th>outside</th>\n",
       "      <th>netflix</th>\n",
       "      <th>rating</th>\n",
       "    </tr>\n",
       "  </thead>\n",
       "  <tbody>\n",
       "    <tr>\n",
       "      <th>195</th>\n",
       "      <td>0</td>\n",
       "      <td>1.633701e+07</td>\n",
       "      <td>1.852572e+07</td>\n",
       "      <td>1.196560e+07</td>\n",
       "      <td>2022.0</td>\n",
       "      <td>269.988267</td>\n",
       "      <td>NaN</td>\n",
       "      <td>NaN</td>\n",
       "      <td>5.554348</td>\n",
       "    </tr>\n",
       "    <tr>\n",
       "      <th>196</th>\n",
       "      <td>0</td>\n",
       "      <td>8.441605e+06</td>\n",
       "      <td>1.297282e+07</td>\n",
       "      <td>9.160656e+06</td>\n",
       "      <td>2007.0</td>\n",
       "      <td>267.939379</td>\n",
       "      <td>no</td>\n",
       "      <td>yes</td>\n",
       "      <td>4.208167</td>\n",
       "    </tr>\n",
       "    <tr>\n",
       "      <th>197</th>\n",
       "      <td>0</td>\n",
       "      <td>9.599373e+06</td>\n",
       "      <td>NaN</td>\n",
       "      <td>9.608058e+06</td>\n",
       "      <td>2003.0</td>\n",
       "      <td>260.171831</td>\n",
       "      <td>no</td>\n",
       "      <td>NaN</td>\n",
       "      <td>NaN</td>\n",
       "    </tr>\n",
       "    <tr>\n",
       "      <th>198</th>\n",
       "      <td>0</td>\n",
       "      <td>1.240572e+07</td>\n",
       "      <td>1.539260e+07</td>\n",
       "      <td>NaN</td>\n",
       "      <td>2012.0</td>\n",
       "      <td>NaN</td>\n",
       "      <td>no</td>\n",
       "      <td>yes</td>\n",
       "      <td>4.860113</td>\n",
       "    </tr>\n",
       "    <tr>\n",
       "      <th>199</th>\n",
       "      <td>0</td>\n",
       "      <td>2.284349e+06</td>\n",
       "      <td>8.161214e+06</td>\n",
       "      <td>6.899894e+06</td>\n",
       "      <td>2005.0</td>\n",
       "      <td>285.537877</td>\n",
       "      <td>no</td>\n",
       "      <td>NaN</td>\n",
       "      <td>3.125985</td>\n",
       "    </tr>\n",
       "  </tbody>\n",
       "</table>\n",
       "</div>"
      ],
      "text/plain": [
       "    genre         gross          cost  no_of_viewer    year    duration  \\\n",
       "195     0  1.633701e+07  1.852572e+07  1.196560e+07  2022.0  269.988267   \n",
       "196     0  8.441605e+06  1.297282e+07  9.160656e+06  2007.0  267.939379   \n",
       "197     0  9.599373e+06           NaN  9.608058e+06  2003.0  260.171831   \n",
       "198     0  1.240572e+07  1.539260e+07           NaN  2012.0         NaN   \n",
       "199     0  2.284349e+06  8.161214e+06  6.899894e+06  2005.0  285.537877   \n",
       "\n",
       "    outside netflix    rating  \n",
       "195     NaN     NaN  5.554348  \n",
       "196      no     yes  4.208167  \n",
       "197      no     NaN       NaN  \n",
       "198      no     yes  4.860113  \n",
       "199      no     NaN  3.125985  "
      ]
     },
     "execution_count": 5,
     "metadata": {},
     "output_type": "execute_result"
    }
   ],
   "source": [
    "#the tail\n",
    "dataFrame.tail()"
   ]
  },
  {
   "cell_type": "code",
   "execution_count": 6,
   "id": "unexpected-stephen",
   "metadata": {},
   "outputs": [
    {
     "data": {
      "text/plain": [
       "genre           36\n",
       "gross           31\n",
       "cost            31\n",
       "no_of_viewer    27\n",
       "year            33\n",
       "duration        23\n",
       "outside         33\n",
       "netflix         27\n",
       "rating          28\n",
       "dtype: int64"
      ]
     },
     "execution_count": 6,
     "metadata": {},
     "output_type": "execute_result"
    }
   ],
   "source": [
    "#NA values\n",
    "dataFrame.isna().sum()"
   ]
  },
  {
   "cell_type": "code",
   "execution_count": 7,
   "id": "blank-shock",
   "metadata": {},
   "outputs": [
    {
     "name": "stdout",
     "output_type": "stream",
     "text": [
      "<class 'pandas.core.frame.DataFrame'>\n",
      "RangeIndex: 200 entries, 0 to 199\n",
      "Data columns (total 9 columns):\n",
      " #   Column        Non-Null Count  Dtype  \n",
      "---  ------        --------------  -----  \n",
      " 0   genre         164 non-null    object \n",
      " 1   gross         169 non-null    float64\n",
      " 2   cost          169 non-null    float64\n",
      " 3   no_of_viewer  173 non-null    float64\n",
      " 4   year          167 non-null    float64\n",
      " 5   duration      177 non-null    float64\n",
      " 6   outside       167 non-null    object \n",
      " 7   netflix       173 non-null    object \n",
      " 8   rating        172 non-null    float64\n",
      "dtypes: float64(6), object(3)\n",
      "memory usage: 14.2+ KB\n"
     ]
    }
   ],
   "source": [
    "#display info about the dataframe\n",
    "dataFrame.info()"
   ]
  },
  {
   "cell_type": "markdown",
   "id": "arctic-jamaica",
   "metadata": {},
   "source": [
    "We have 6 float value columns and 3 object value columns, which seems appropriate with the datatypes for the given columns. We decided to keep the year as float as we only have the year and not a full date.  Data seems to be imported fine. Column headers are values. We don't have multiple variables in a column. Both rows and columns hold values. Every column has the same unit in itself. \n",
    "\n",
    "Titles look broken and weird. Let's fix that."
   ]
  },
  {
   "cell_type": "markdown",
   "id": "finnish-stick",
   "metadata": {},
   "source": [
    "# Make titles nicer"
   ]
  },
  {
   "cell_type": "code",
   "execution_count": 8,
   "id": "clear-jacob",
   "metadata": {},
   "outputs": [
    {
     "data": {
      "text/plain": [
       "Index(['Genre', 'Gross', 'Cost', 'No_Of_Viewer', 'Year', 'Duration', 'Outside',\n",
       "       'Netflix', 'Rating'],\n",
       "      dtype='object')"
      ]
     },
     "execution_count": 8,
     "metadata": {},
     "output_type": "execute_result"
    }
   ],
   "source": [
    "#take the column names and turn them into capitalized titles\n",
    "dataFrame.columns = dataFrame.columns.str.title()\n",
    "dataFrame.columns #display titles to see changes"
   ]
  },
  {
   "cell_type": "code",
   "execution_count": 9,
   "id": "complicated-living",
   "metadata": {},
   "outputs": [
    {
     "data": {
      "text/plain": [
       "Index(['Genre', 'Gross', 'Cost', 'Number of Viewers', 'Year', 'Duration',\n",
       "       'Outside', 'Netflix', 'Rating'],\n",
       "      dtype='object')"
      ]
     },
     "execution_count": 9,
     "metadata": {},
     "output_type": "execute_result"
    }
   ],
   "source": [
    "#rename 'No_Of_Viewer' column as 'Number_of_Viewers'\n",
    "dataFrame = dataFrame.rename({'No_Of_Viewer' : 'Number of Viewers'},axis='columns')\n",
    "dataFrame.columns"
   ]
  },
  {
   "cell_type": "markdown",
   "id": "liable-divide",
   "metadata": {},
   "source": [
    "# check for duplicates and unique values (will check again later)"
   ]
  },
  {
   "cell_type": "code",
   "execution_count": 10,
   "id": "responsible-preference",
   "metadata": {},
   "outputs": [
    {
     "data": {
      "text/plain": [
       "0"
      ]
     },
     "execution_count": 10,
     "metadata": {},
     "output_type": "execute_result"
    }
   ],
   "source": [
    "#examine duplicates\n",
    "dataFrame.duplicated().sum()"
   ]
  },
  {
   "cell_type": "markdown",
   "id": "understood-andrews",
   "metadata": {},
   "source": [
    "It seems like that we have no duplicates, but we will make sure that we won't have any in the future steps"
   ]
  },
  {
   "cell_type": "code",
   "execution_count": 11,
   "id": "cheap-agreement",
   "metadata": {},
   "outputs": [
    {
     "data": {
      "text/plain": [
       "Genre                  7\n",
       "Gross                169\n",
       "Cost                 169\n",
       "Number of Viewers    173\n",
       "Year                  23\n",
       "Duration             177\n",
       "Outside                5\n",
       "Netflix                5\n",
       "Rating               163\n",
       "dtype: int64"
      ]
     },
     "execution_count": 11,
     "metadata": {},
     "output_type": "execute_result"
    }
   ],
   "source": [
    "#check for the number of unique values\n",
    "dataFrame.nunique()"
   ]
  },
  {
   "cell_type": "markdown",
   "id": "independent-interview",
   "metadata": {},
   "source": [
    "It looks like we have some non-unique values.We will check this later when we fill NAs and replace outliers (spoilers!)"
   ]
  },
  {
   "cell_type": "markdown",
   "id": "liberal-concept",
   "metadata": {},
   "source": [
    "## object type columns"
   ]
  },
  {
   "cell_type": "code",
   "execution_count": 12,
   "id": "proved-editor",
   "metadata": {},
   "outputs": [
    {
     "name": "stdout",
     "output_type": "stream",
     "text": [
      "0            83\n",
      "Adventure    35\n",
      "Action       18\n",
      "Drama        15\n",
      "ADVenture     8\n",
      " DRAMa        3\n",
      "ACtion        2\n",
      "Name: Genre, dtype: int64\n",
      "no     116\n",
      "yes     38\n",
      "NO       7\n",
      " NO      5\n",
      "YeS      1\n",
      "Name: Outside, dtype: int64\n",
      "yes     119\n",
      "no       41\n",
      "YeS       7\n",
      " YeS      5\n",
      "NO        1\n",
      "Name: Netflix, dtype: int64\n"
     ]
    }
   ],
   "source": [
    "#count the values for columns with object datatype\n",
    "for i in dataFrame.select_dtypes(include = 'object').columns:\n",
    "    print(dataFrame[i].value_counts()) "
   ]
  },
  {
   "cell_type": "markdown",
   "id": "confidential-hayes",
   "metadata": {},
   "source": [
    "The values look like an alphabet soup! We should unify them.\n",
    "\n",
    "Also, genre column looks weird... 83 of the values are 0."
   ]
  },
  {
   "cell_type": "markdown",
   "id": "ancient-wales",
   "metadata": {},
   "source": [
    "### Genre column"
   ]
  },
  {
   "cell_type": "code",
   "execution_count": 13,
   "id": "searching-vegetable",
   "metadata": {},
   "outputs": [
    {
     "name": "stdout",
     "output_type": "stream",
     "text": [
      "NA values:  36\n",
      "0 values:  83\n",
      "Total garbage:  119\n",
      "Proportions:  59 %\n"
     ]
    }
   ],
   "source": [
    "#determine the amount of NA cells in Genre column\n",
    "genre_na = dataFrame['Genre'].isna().sum()\n",
    "print(\"NA values: \", genre_na)\n",
    "\n",
    "#find the amount of 0s\n",
    "genre_zero = dataFrame['Genre'].value_counts()[0]\n",
    "print(\"0 values: \", genre_zero)\n",
    "\n",
    "#see the total number of garbage values\n",
    "genre_sum = genre_na + genre_zero\n",
    "print(\"Total garbage: \", genre_sum)\n",
    "\n",
    "#also find the % proportion of garbages\n",
    "proportion = (genre_sum * 100) // len(dataFrame.index)\n",
    "print(\"Proportions: \", proportion,\"%\")"
   ]
  },
  {
   "cell_type": "markdown",
   "id": "controversial-prevention",
   "metadata": {},
   "source": [
    "Checklist says drop the column if we have 60-65% of the data unusable. 59% is pretty much the same as 60% as our sample size isn't gigantic."
   ]
  },
  {
   "cell_type": "code",
   "execution_count": 14,
   "id": "pressing-scheduling",
   "metadata": {},
   "outputs": [
    {
     "data": {
      "text/html": [
       "<div>\n",
       "<style scoped>\n",
       "    .dataframe tbody tr th:only-of-type {\n",
       "        vertical-align: middle;\n",
       "    }\n",
       "\n",
       "    .dataframe tbody tr th {\n",
       "        vertical-align: top;\n",
       "    }\n",
       "\n",
       "    .dataframe thead th {\n",
       "        text-align: right;\n",
       "    }\n",
       "</style>\n",
       "<table border=\"1\" class=\"dataframe\">\n",
       "  <thead>\n",
       "    <tr style=\"text-align: right;\">\n",
       "      <th></th>\n",
       "      <th>Gross</th>\n",
       "      <th>Cost</th>\n",
       "      <th>Number of Viewers</th>\n",
       "      <th>Year</th>\n",
       "      <th>Duration</th>\n",
       "      <th>Outside</th>\n",
       "      <th>Netflix</th>\n",
       "      <th>Rating</th>\n",
       "    </tr>\n",
       "  </thead>\n",
       "  <tbody>\n",
       "    <tr>\n",
       "      <th>0</th>\n",
       "      <td>2.556502e+06</td>\n",
       "      <td>7.432357e+06</td>\n",
       "      <td>NaN</td>\n",
       "      <td>2010.0</td>\n",
       "      <td>292.221364</td>\n",
       "      <td>no</td>\n",
       "      <td>yes</td>\n",
       "      <td>3.111750</td>\n",
       "    </tr>\n",
       "    <tr>\n",
       "      <th>1</th>\n",
       "      <td>1.991826e+07</td>\n",
       "      <td>2.148195e+07</td>\n",
       "      <td>1.330288e+07</td>\n",
       "      <td>2014.0</td>\n",
       "      <td>290.725164</td>\n",
       "      <td>yes</td>\n",
       "      <td>no</td>\n",
       "      <td>6.194811</td>\n",
       "    </tr>\n",
       "    <tr>\n",
       "      <th>2</th>\n",
       "      <td>1.456786e+07</td>\n",
       "      <td>1.747146e+07</td>\n",
       "      <td>1.136820e+07</td>\n",
       "      <td>2021.0</td>\n",
       "      <td>259.883566</td>\n",
       "      <td>no</td>\n",
       "      <td>YeS</td>\n",
       "      <td>5.265078</td>\n",
       "    </tr>\n",
       "    <tr>\n",
       "      <th>3</th>\n",
       "      <td>1.855628e+07</td>\n",
       "      <td>1.991671e+07</td>\n",
       "      <td>1.272027e+07</td>\n",
       "      <td>2016.0</td>\n",
       "      <td>275.505929</td>\n",
       "      <td>yes</td>\n",
       "      <td>NaN</td>\n",
       "      <td>5.921890</td>\n",
       "    </tr>\n",
       "    <tr>\n",
       "      <th>4</th>\n",
       "      <td>1.393263e+07</td>\n",
       "      <td>NaN</td>\n",
       "      <td>1.105232e+07</td>\n",
       "      <td>NaN</td>\n",
       "      <td>263.948467</td>\n",
       "      <td>NaN</td>\n",
       "      <td>yes</td>\n",
       "      <td>5.119858</td>\n",
       "    </tr>\n",
       "  </tbody>\n",
       "</table>\n",
       "</div>"
      ],
      "text/plain": [
       "          Gross          Cost  Number of Viewers    Year    Duration Outside  \\\n",
       "0  2.556502e+06  7.432357e+06                NaN  2010.0  292.221364      no   \n",
       "1  1.991826e+07  2.148195e+07       1.330288e+07  2014.0  290.725164     yes   \n",
       "2  1.456786e+07  1.747146e+07       1.136820e+07  2021.0  259.883566      no   \n",
       "3  1.855628e+07  1.991671e+07       1.272027e+07  2016.0  275.505929     yes   \n",
       "4  1.393263e+07           NaN       1.105232e+07     NaN  263.948467     NaN   \n",
       "\n",
       "  Netflix    Rating  \n",
       "0     yes  3.111750  \n",
       "1      no  6.194811  \n",
       "2     YeS  5.265078  \n",
       "3     NaN  5.921890  \n",
       "4     yes  5.119858  "
      ]
     },
     "execution_count": 14,
     "metadata": {},
     "output_type": "execute_result"
    }
   ],
   "source": [
    "#drop the Genre column as more than half of the column is filled with 0 and NA\n",
    "dataFrame = dataFrame.drop(columns = ['Genre'])\n",
    "\n",
    "#let's see how it looks like now\n",
    "dataFrame.head()"
   ]
  },
  {
   "cell_type": "markdown",
   "id": "acoustic-administrator",
   "metadata": {},
   "source": [
    "### Outside column"
   ]
  },
  {
   "cell_type": "code",
   "execution_count": 15,
   "id": "prepared-storage",
   "metadata": {},
   "outputs": [
    {
     "name": "stdout",
     "output_type": "stream",
     "text": [
      "NA values:  33\n",
      "Proportions:  16 %\n"
     ]
    }
   ],
   "source": [
    "#determine the amount of NA cells in Outside column\n",
    "outside_na = dataFrame['Outside'].isna().sum()\n",
    "print(\"NA values: \", outside_na)\n",
    "\n",
    "#also find the % proportion of garbages\n",
    "proportion = (outside_na * 100) // len(dataFrame.index)\n",
    "print(\"Proportions: \", proportion,\"%\")"
   ]
  },
  {
   "cell_type": "markdown",
   "id": "magnetic-deputy",
   "metadata": {},
   "source": [
    "Seems fine."
   ]
  },
  {
   "cell_type": "code",
   "execution_count": 16,
   "id": "brazilian-budapest",
   "metadata": {
    "scrolled": true
   },
   "outputs": [
    {
     "name": "stdout",
     "output_type": "stream",
     "text": [
      "NA values:  33\n",
      "No     128\n",
      "Yes     39\n",
      "Name: Outside, dtype: int64\n"
     ]
    }
   ],
   "source": [
    "#correct the misspelled yes and no values in Outside column and display NA cells\n",
    "\n",
    "#strip the whitespaces\n",
    "dataFrame['Outside'] = dataFrame['Outside'].str.strip()\n",
    "\n",
    "#correct yes's and no's\n",
    "dataFrame['Outside'] = dataFrame['Outside'].replace(to_replace = ['NO', 'no'], value = 'No')\n",
    "dataFrame['Outside'] = dataFrame['Outside'].replace(to_replace = ['YeS', 'yes'], value = 'Yes')\n",
    "\n",
    "#print NA and other values to see if it worked\n",
    "print('NA values: ', dataFrame['Outside'].isna().sum())\n",
    "print(dataFrame['Outside'].value_counts())"
   ]
  },
  {
   "cell_type": "markdown",
   "id": "forbidden-amsterdam",
   "metadata": {},
   "source": [
    "Let's fill the NAs of Outside. We can use binomial distribution to fill the NAs."
   ]
  },
  {
   "cell_type": "code",
   "execution_count": 17,
   "id": "looking-winner",
   "metadata": {},
   "outputs": [
    {
     "name": "stdout",
     "output_type": "stream",
     "text": [
      "Prob. Yes:  0.23353293413173654\n",
      "NA values:  0\n"
     ]
    }
   ],
   "source": [
    "# let's find the probability of Yes\n",
    "# first find the amount of filled cells\n",
    "\n",
    "filled = len(dataFrame.index) - dataFrame['Outside'].isna().sum() # the cells that are filled already\n",
    "\n",
    "# probability of choosing yes, take as p\n",
    "p = (dataFrame['Outside'].value_counts()['Yes']) / filled\n",
    "print(\"Prob. Yes: \", p)\n",
    "\n",
    "# fill NA values randomly based on the probability of yes\n",
    "for i in range(dataFrame['Outside'].isna().sum()):\n",
    "    random = rand.random()\n",
    "    if random <= p:\n",
    "        dataFrame['Outside'] = dataFrame['Outside'].fillna('Yes')\n",
    "    else:\n",
    "        dataFrame['Outside'] = dataFrame['Outside'].fillna('No')\n",
    "\n",
    "#Let's see NA values again\n",
    "print('NA values: ', dataFrame['Outside'].isna().sum())"
   ]
  },
  {
   "cell_type": "markdown",
   "id": "illegal-marks",
   "metadata": {},
   "source": [
    "### Netflix column"
   ]
  },
  {
   "cell_type": "code",
   "execution_count": 18,
   "id": "breathing-bridge",
   "metadata": {},
   "outputs": [
    {
     "name": "stdout",
     "output_type": "stream",
     "text": [
      "NA values:  27\n",
      "Proportions:  13 %\n"
     ]
    }
   ],
   "source": [
    "#determine the amount and proportion of NA cells in Netflix column\n",
    "netflix_na = dataFrame['Netflix'].isna().sum()\n",
    "print(\"NA values: \", netflix_na)\n",
    "\n",
    "#find the % proportion of garbages\n",
    "proportion = (netflix_na * 100) // len(dataFrame.index)\n",
    "print(\"Proportions: \", proportion,\"%\")"
   ]
  },
  {
   "cell_type": "markdown",
   "id": "numerous-surprise",
   "metadata": {},
   "source": [
    "Looks OK."
   ]
  },
  {
   "cell_type": "code",
   "execution_count": 19,
   "id": "documented-catalog",
   "metadata": {
    "scrolled": true
   },
   "outputs": [
    {
     "name": "stdout",
     "output_type": "stream",
     "text": [
      "NA values:  27\n",
      "Yes    131\n",
      "No      42\n",
      "Name: Netflix, dtype: int64\n"
     ]
    }
   ],
   "source": [
    "#correct the misspelled yes and no values in Netflix column and display NA cells\n",
    "\n",
    "#strip the whitespaces\n",
    "dataFrame['Netflix'] = dataFrame['Netflix'].str.strip()\n",
    "\n",
    "#correct yes's and no's\n",
    "dataFrame['Netflix'] = dataFrame['Netflix'].replace(to_replace = ['NO', 'no'], value = 'No')\n",
    "dataFrame['Netflix'] = dataFrame['Netflix'].replace(to_replace = ['YeS', 'yes'], value = 'Yes')\n",
    "\n",
    "#print NA and other values to see if it worked\n",
    "print('NA values: ', dataFrame['Netflix'].isna().sum())\n",
    "print(dataFrame['Netflix'].value_counts())"
   ]
  },
  {
   "cell_type": "markdown",
   "id": "least-surface",
   "metadata": {},
   "source": [
    "We have NA values to fill in Netflix. Let's fill them now the same way we filled Outside."
   ]
  },
  {
   "cell_type": "code",
   "execution_count": 20,
   "id": "described-cemetery",
   "metadata": {},
   "outputs": [
    {
     "name": "stdout",
     "output_type": "stream",
     "text": [
      "Prob. Yes:  0.7572254335260116\n",
      "NA values:  0\n"
     ]
    }
   ],
   "source": [
    "# let's find the probability of Yes\n",
    "# first find the amount of filled cells\n",
    "\n",
    "filled = len(dataFrame.index) - dataFrame['Netflix'].isna().sum() # the cells that are filled already\n",
    "\n",
    "# probability of choosing yes, take as p\n",
    "p = (dataFrame['Netflix'].value_counts()['Yes']) / filled\n",
    "print(\"Prob. Yes: \", p)\n",
    "\n",
    "# fill NA values randomly based on the probability of yes\n",
    "for i in range(dataFrame['Netflix'].isna().sum()):\n",
    "    random = rand.random()\n",
    "    if random <= p:\n",
    "        dataFrame['Netflix'] = dataFrame['Netflix'].fillna('Yes')\n",
    "    else:\n",
    "        dataFrame['Netflix'] = dataFrame['Netflix'].fillna('No')\n",
    "\n",
    "#Let's see NA values again\n",
    "print('NA values: ', dataFrame['Netflix'].isna().sum())"
   ]
  },
  {
   "cell_type": "markdown",
   "id": "occupied-intersection",
   "metadata": {},
   "source": [
    "## float type columns"
   ]
  },
  {
   "cell_type": "code",
   "execution_count": 21,
   "id": "amateur-market",
   "metadata": {},
   "outputs": [
    {
     "name": "stdout",
     "output_type": "stream",
     "text": [
      "Negative(Gross)\t\t\t 18\n",
      "Negative(Cost)\t\t\t 1\n",
      "Negative(Num. of Viewers)\t 0\n",
      "Negative(Duration)\t\t 0\n",
      "Negative(Rating)\t\t 0\n",
      "\n",
      "----------------------------------------------------\n"
     ]
    }
   ],
   "source": [
    "#Display number of negative values in each column\n",
    "print('Negative(Gross)\\t\\t\\t',(dataFrame['Gross'] < 0).sum().sum())\n",
    "print('Negative(Cost)\\t\\t\\t',(dataFrame['Cost'] < 0).sum().sum())\n",
    "print('Negative(Num. of Viewers)\\t',(dataFrame['Number of Viewers'] < 0).sum().sum())\n",
    "print('Negative(Duration)\\t\\t',(dataFrame['Duration'] < 0).sum().sum())\n",
    "print('Negative(Rating)\\t\\t',(dataFrame['Rating'] < 0).sum().sum())\n",
    "print('\\n----------------------------------------------------')"
   ]
  },
  {
   "cell_type": "code",
   "execution_count": 22,
   "id": "under-demonstration",
   "metadata": {},
   "outputs": [],
   "source": [
    "#Take absolute value\n",
    "dataFrameAbs = dataFrame.select_dtypes(include = 'float64').abs()\n",
    "dataFrame['Gross'] = dataFrameAbs['Gross']\n",
    "dataFrame['Cost'] = dataFrameAbs['Cost']\n",
    "dataFrame['Number of Viewers'] = dataFrameAbs['Number of Viewers']\n",
    "dataFrame['Duration'] = dataFrameAbs['Duration']\n",
    "dataFrame['Rating'] = dataFrameAbs['Rating']"
   ]
  },
  {
   "cell_type": "code",
   "execution_count": 23,
   "id": "supported-feelings",
   "metadata": {},
   "outputs": [
    {
     "name": "stdout",
     "output_type": "stream",
     "text": [
      "Negative(Gross)\t\t\t 0\n",
      "Negative(Cost)\t\t\t 0\n",
      "Negative(Num. of Viewers)\t 0\n",
      "Negative(Duration)\t\t 0\n",
      "Negative(Rating)\t\t 0\n"
     ]
    },
    {
     "data": {
      "text/plain": [
       "Gross                31\n",
       "Cost                 31\n",
       "Number of Viewers    27\n",
       "Year                 33\n",
       "Duration             23\n",
       "Outside               0\n",
       "Netflix               0\n",
       "Rating               28\n",
       "dtype: int64"
      ]
     },
     "execution_count": 23,
     "metadata": {},
     "output_type": "execute_result"
    }
   ],
   "source": [
    "#Display number of negative values in each columns again to see whether absolute value command worked or not\n",
    "print('Negative(Gross)\\t\\t\\t',(dataFrame['Gross'] < 0).sum().sum())\n",
    "print('Negative(Cost)\\t\\t\\t',(dataFrame['Cost'] < 0).sum().sum())\n",
    "print('Negative(Num. of Viewers)\\t',(dataFrame['Number of Viewers'] < 0).sum().sum())\n",
    "print('Negative(Duration)\\t\\t',(dataFrame['Duration'] < 0).sum().sum())\n",
    "print('Negative(Rating)\\t\\t',(dataFrame['Rating'] < 0).sum().sum())\n",
    "dataFrame.isna().sum()"
   ]
  },
  {
   "cell_type": "markdown",
   "id": "consistent-musical",
   "metadata": {},
   "source": [
    "### Gross column"
   ]
  },
  {
   "cell_type": "code",
   "execution_count": 24,
   "id": "optical-manor",
   "metadata": {},
   "outputs": [
    {
     "name": "stdout",
     "output_type": "stream",
     "text": [
      "NA values:  31\n",
      "Proportions:  15 %\n"
     ]
    }
   ],
   "source": [
    "#determine the amount and proportion of NA cells in Gross column\n",
    "gross_na = dataFrame['Gross'].isna().sum()\n",
    "print(\"NA values: \", gross_na)\n",
    "\n",
    "#find the % proportion of garbages\n",
    "proportion = (gross_na * 100) // len(dataFrame.index)\n",
    "print(\"Proportions: \", proportion,\"%\")"
   ]
  },
  {
   "cell_type": "markdown",
   "id": "bored-essence",
   "metadata": {},
   "source": [
    "Looks OK."
   ]
  },
  {
   "cell_type": "code",
   "execution_count": 25,
   "id": "played-career",
   "metadata": {},
   "outputs": [
    {
     "name": "stdout",
     "output_type": "stream",
     "text": [
      "Num. of NA (Gross):  31\n",
      "Median of gross:  10121202.5381579\n",
      "Num. of NA (Gross):  0\n"
     ]
    }
   ],
   "source": [
    "#display NA values\n",
    "print('Num. of NA (Gross): ', dataFrame['Gross'].isna().sum())\n",
    "\n",
    "#Fill NA values in Gross with Median\n",
    "median_of_gross = dataFrame['Gross'].median()\n",
    "print('Median of gross: ', median_of_gross)\n",
    "dataFrame['Gross'] = dataFrame['Gross'].fillna(median_of_gross)\n",
    "print('Num. of NA (Gross): ', dataFrame['Gross'].isna().sum())"
   ]
  },
  {
   "cell_type": "code",
   "execution_count": 26,
   "id": "handy-briefs",
   "metadata": {},
   "outputs": [
    {
     "name": "stdout",
     "output_type": "stream",
     "text": [
      "Outliers (Gross)\n",
      " 49     2.736197e+07\n",
      "114    2.678449e+07\n",
      "Name: Gross, dtype: float64\n",
      "Replaced Outliers\n",
      "\n",
      "49 \t 10121202.5381579\n",
      "Replaced Outliers\n",
      "\n",
      "114 \t 10121202.5381579\n"
     ]
    }
   ],
   "source": [
    "#Display outliers of Gross column and replace them with the median\n",
    "out_gross = find_outliers_IQR(dataFrame['Gross'])\n",
    "print('Outliers (Gross)\\n', str(out_gross))\n",
    "\n",
    "for i in out_gross.index:\n",
    "    val = out_gross[i]\n",
    "    dataFrame['Gross'] = dataFrame['Gross'].replace(to_replace = val, value = median_of_gross)\n",
    "    print(\"Replaced Outliers\\n\")\n",
    "    print(i, \"\\t\", dataFrame['Gross'][i])"
   ]
  },
  {
   "cell_type": "code",
   "execution_count": 27,
   "id": "flush-stress",
   "metadata": {},
   "outputs": [
    {
     "data": {
      "text/plain": [
       "count    2.000000e+02\n",
       "mean     1.047595e+07\n",
       "std      6.021160e+06\n",
       "min      4.791287e+04\n",
       "25%      6.493311e+06\n",
       "50%      1.012120e+07\n",
       "75%      1.398960e+07\n",
       "max      2.537938e+07\n",
       "Name: Gross, dtype: float64"
      ]
     },
     "execution_count": 27,
     "metadata": {},
     "output_type": "execute_result"
    }
   ],
   "source": [
    "#Gross info\n",
    "dataFrame['Gross'].describe().transpose()"
   ]
  },
  {
   "cell_type": "markdown",
   "id": "appreciated-nightlife",
   "metadata": {},
   "source": [
    "### Cost column"
   ]
  },
  {
   "cell_type": "code",
   "execution_count": 28,
   "id": "viral-medicare",
   "metadata": {},
   "outputs": [
    {
     "name": "stdout",
     "output_type": "stream",
     "text": [
      "NA values:  31\n",
      "Proportions:  15 %\n"
     ]
    }
   ],
   "source": [
    "#determine the amount and proportion of NA cells in Cost column\n",
    "cost_na = dataFrame['Cost'].isna().sum()\n",
    "print(\"NA values: \", cost_na)\n",
    "\n",
    "#find the % proportion of garbages\n",
    "proportion = (cost_na * 100) // len(dataFrame.index)\n",
    "print(\"Proportions: \", proportion,\"%\")"
   ]
  },
  {
   "cell_type": "markdown",
   "id": "surface-chaos",
   "metadata": {},
   "source": [
    "Seems good."
   ]
  },
  {
   "cell_type": "code",
   "execution_count": 29,
   "id": "skilled-monroe",
   "metadata": {},
   "outputs": [
    {
     "name": "stdout",
     "output_type": "stream",
     "text": [
      "Num. of NA (Cost):\t 31\n",
      "Median of Cost:  13616744.7344021\n",
      "Num. of NA (Cost):\t 0\n"
     ]
    }
   ],
   "source": [
    "#display NA values\n",
    "print('Num. of NA (Cost):\\t', dataFrame['Cost'].isna().sum())\n",
    "\n",
    "#Fill NA values in Cost with Median\n",
    "median_of_cost = dataFrame['Cost'].median()\n",
    "print('Median of Cost: ', median_of_cost)\n",
    "dataFrame['Cost'] = dataFrame['Cost'].fillna(median_of_cost)\n",
    "print('Num. of NA (Cost):\\t', dataFrame['Cost'].isna().sum())"
   ]
  },
  {
   "cell_type": "code",
   "execution_count": 30,
   "id": "liquid-christian",
   "metadata": {},
   "outputs": [
    {
     "name": "stdout",
     "output_type": "stream",
     "text": [
      "Outlier (Cost)\n",
      " 49     2.641508e+07\n",
      "58     7.201403e+05\n",
      "114    2.585029e+07\n",
      "165    4.151219e+03\n",
      "185    9.354493e+05\n",
      "Name: Cost, dtype: float64\n",
      "Replaced Outliers\n",
      "\n",
      "49 \t 13616744.7344021\n",
      "Replaced Outliers\n",
      "\n",
      "58 \t 13616744.7344021\n",
      "Replaced Outliers\n",
      "\n",
      "114 \t 13616744.7344021\n",
      "Replaced Outliers\n",
      "\n",
      "165 \t 13616744.7344021\n",
      "Replaced Outliers\n",
      "\n",
      "185 \t 13616744.7344021\n"
     ]
    }
   ],
   "source": [
    "#Display outliers of Cost column and replace them with the median\n",
    "out_cost = find_outliers_IQR(dataFrame['Cost'])\n",
    "print('Outlier (Cost)\\n', str(out_cost))\n",
    "\n",
    "for i in out_cost.index:\n",
    "    val = out_cost[i]\n",
    "    dataFrame['Cost'] = dataFrame['Cost'].replace(to_replace = val, value = median_of_cost)\n",
    "    print(\"Replaced Outliers\\n\")\n",
    "    print(i, \"\\t\", dataFrame['Cost'][i])"
   ]
  },
  {
   "cell_type": "code",
   "execution_count": 31,
   "id": "stuffed-spank",
   "metadata": {},
   "outputs": [
    {
     "data": {
      "text/plain": [
       "count    2.000000e+02\n",
       "mean     1.386937e+07\n",
       "std      4.736942e+06\n",
       "min      2.754498e+06\n",
       "25%      1.125519e+07\n",
       "50%      1.361674e+07\n",
       "75%      1.685935e+07\n",
       "max      2.495247e+07\n",
       "Name: Cost, dtype: float64"
      ]
     },
     "execution_count": 31,
     "metadata": {},
     "output_type": "execute_result"
    }
   ],
   "source": [
    "#Cost info\n",
    "dataFrame['Cost'].describe().transpose()"
   ]
  },
  {
   "cell_type": "markdown",
   "id": "rural-humidity",
   "metadata": {},
   "source": [
    "### Number of Viewers column"
   ]
  },
  {
   "cell_type": "code",
   "execution_count": 32,
   "id": "greenhouse-commander",
   "metadata": {},
   "outputs": [
    {
     "name": "stdout",
     "output_type": "stream",
     "text": [
      "NA values:  27\n",
      "Proportions:  13 %\n"
     ]
    }
   ],
   "source": [
    "#determine the amount and proportion of NA cells in Number of Viewers column\n",
    "nov_na = dataFrame['Number of Viewers'].isna().sum()\n",
    "print(\"NA values: \", nov_na)\n",
    "\n",
    "#find the % proportion of garbages\n",
    "proportion = (nov_na * 100) // len(dataFrame.index)\n",
    "print(\"Proportions: \", proportion,\"%\")"
   ]
  },
  {
   "cell_type": "markdown",
   "id": "broken-skiing",
   "metadata": {},
   "source": [
    "Looks smooth."
   ]
  },
  {
   "cell_type": "code",
   "execution_count": 33,
   "id": "optical-poverty",
   "metadata": {},
   "outputs": [
    {
     "name": "stdout",
     "output_type": "stream",
     "text": [
      "Num. of NA (Number of Viewers):  27\n",
      "Median of Number of Viewers:  9576807.56792578\n",
      "Num. of NA (Number of Viewers):  0\n"
     ]
    }
   ],
   "source": [
    "#display NA values\n",
    "print('Num. of NA (Number of Viewers): ', dataFrame['Number of Viewers'].isna().sum())\n",
    "\n",
    "#Fill NA values with Median\n",
    "median_of_nov = dataFrame['Number of Viewers'].median()\n",
    "print('Median of Number of Viewers: ', median_of_nov)\n",
    "dataFrame['Number of Viewers'] = dataFrame['Number of Viewers'].fillna(median_of_nov)\n",
    "print('Num. of NA (Number of Viewers): ', dataFrame['Number of Viewers'].isna().sum())"
   ]
  },
  {
   "cell_type": "code",
   "execution_count": 34,
   "id": "helpful-desert",
   "metadata": {},
   "outputs": [
    {
     "name": "stdout",
     "output_type": "stream",
     "text": [
      "Outlier(Number of Viewers)\n",
      " 18     2.418048e+06\n",
      "49     1.588776e+07\n",
      "129    3.557401e+06\n",
      "165    2.919316e+06\n",
      "185    3.561613e+06\n",
      "Name: Number of Viewers, dtype: float64\n",
      "Replaced Outliers\n",
      "\n",
      "18 \t 9576807.56792578\n",
      "Replaced Outliers\n",
      "\n",
      "49 \t 9576807.56792578\n",
      "Replaced Outliers\n",
      "\n",
      "129 \t 9576807.56792578\n",
      "Replaced Outliers\n",
      "\n",
      "165 \t 9576807.56792578\n",
      "Replaced Outliers\n",
      "\n",
      "185 \t 9576807.56792578\n"
     ]
    }
   ],
   "source": [
    "#Display outliers of Number of Viewers column and replace them with the median\n",
    "out_nov = find_outliers_IQR(dataFrame['Number of Viewers'])\n",
    "print('Outlier(Number of Viewers)\\n', str(out_nov))\n",
    "\n",
    "for i in out_nov.index:\n",
    "    val = out_nov[i]\n",
    "    dataFrame['Number of Viewers'] = dataFrame['Number of Viewers'].replace(to_replace = val, value = median_of_nov)\n",
    "    print(\"Replaced Outliers\\n\")\n",
    "    print(i, \"\\t\", dataFrame['Number of Viewers'][i])"
   ]
  },
  {
   "cell_type": "code",
   "execution_count": 35,
   "id": "afraid-shareware",
   "metadata": {},
   "outputs": [
    {
     "data": {
      "text/plain": [
       "count    2.000000e+02\n",
       "mean     9.764626e+06\n",
       "std      2.360164e+06\n",
       "min      4.262467e+06\n",
       "25%      8.444537e+06\n",
       "50%      9.576808e+06\n",
       "75%      1.124182e+07\n",
       "max      1.567518e+07\n",
       "Name: Number of Viewers, dtype: float64"
      ]
     },
     "execution_count": 35,
     "metadata": {},
     "output_type": "execute_result"
    }
   ],
   "source": [
    "#Number of Viewers info\n",
    "dataFrame['Number of Viewers'].describe().transpose()"
   ]
  },
  {
   "cell_type": "markdown",
   "id": "statistical-candidate",
   "metadata": {},
   "source": [
    "### Year column"
   ]
  },
  {
   "cell_type": "code",
   "execution_count": 36,
   "id": "constitutional-savage",
   "metadata": {},
   "outputs": [
    {
     "name": "stdout",
     "output_type": "stream",
     "text": [
      "NA values:  33\n",
      "Proportions:  16 %\n"
     ]
    }
   ],
   "source": [
    "#determine the amount and proportion of NA cells in Year column\n",
    "year_na = dataFrame['Year'].isna().sum()\n",
    "print(\"NA values: \", year_na)\n",
    "\n",
    "#find the % proportion of garbages\n",
    "proportion = (year_na * 100) // len(dataFrame.index)\n",
    "print(\"Proportions: \", proportion,\"%\")"
   ]
  },
  {
   "cell_type": "markdown",
   "id": "retired-victory",
   "metadata": {},
   "source": [
    "Looks nice."
   ]
  },
  {
   "cell_type": "code",
   "execution_count": 37,
   "id": "peripheral-belle",
   "metadata": {},
   "outputs": [
    {
     "name": "stdout",
     "output_type": "stream",
     "text": [
      "Median of Year:  2011.0\n"
     ]
    }
   ],
   "source": [
    "# detect median of Year\n",
    "median_of_year = dataFrame['Year'].median()\n",
    "print('Median of Year: ', median_of_year)"
   ]
  },
  {
   "cell_type": "code",
   "execution_count": 38,
   "id": "bizarre-portugal",
   "metadata": {},
   "outputs": [
    {
     "data": {
      "text/plain": [
       "0    2003.0\n",
       "1    2009.0\n",
       "dtype: float64"
      ]
     },
     "execution_count": 38,
     "metadata": {},
     "output_type": "execute_result"
    }
   ],
   "source": [
    "yearModes = dataFrame['Year'].mode()\n",
    "yearModes\n",
    "# year is bi-modal"
   ]
  },
  {
   "cell_type": "code",
   "execution_count": 39,
   "id": "elegant-pressure",
   "metadata": {},
   "outputs": [
    {
     "name": "stdout",
     "output_type": "stream",
     "text": [
      "NAs after first fill:  17\n",
      "NAs after second fill:  0\n"
     ]
    }
   ],
   "source": [
    "#fill half of the NAs in Year with either modes, based on our instructors advice\n",
    "\n",
    "na = dataFrame['Year'].isna().sum()\n",
    "dataFrame['Year'] = dataFrame['Year'].fillna(value = yearModes[0], limit = na//2) #fill first half with the first mode\n",
    "dataFrame['Year'].isna().sum()\n",
    "    \n",
    "#See NA values\n",
    "print(\"NAs after first fill: \", dataFrame['Year'].isna().sum())\n",
    "    \n",
    "dataFrame['Year'] = dataFrame['Year'].fillna(value=yearModes[1]) #fill remaining NAs with the second mode\n",
    "dataFrame['Year'].isna().sum()\n",
    "    \n",
    "#See NA values\n",
    "print(\"NAs after second fill: \", dataFrame['Year'].isna().sum())"
   ]
  },
  {
   "cell_type": "code",
   "execution_count": 40,
   "id": "steady-deficit",
   "metadata": {},
   "outputs": [
    {
     "name": "stdout",
     "output_type": "stream",
     "text": [
      "Outlier(Year)\n",
      " Series([], Name: Year, dtype: float64)\n"
     ]
    }
   ],
   "source": [
    "#Display outliers of Year column and replace them with the median\n",
    "out_year = find_outliers_IQR(dataFrame['Year'])\n",
    "print('Outlier(Year)\\n', str(out_year))\n",
    "\n",
    "for i in out_year.index:\n",
    "    val = out_year[i]\n",
    "    dataFrame['Year'] = dataFrame['Year'].replace(val, median_of_year)\n",
    "    print(\"Replaced Outliers\\n\")\n",
    "    print(i, \"\\t\", dataFrame['Year'][i])"
   ]
  },
  {
   "cell_type": "markdown",
   "id": "recreational-mexico",
   "metadata": {},
   "source": [
    "Good news! Looks like we have no outliers in Year."
   ]
  },
  {
   "cell_type": "code",
   "execution_count": 41,
   "id": "premium-salvation",
   "metadata": {
    "scrolled": true
   },
   "outputs": [
    {
     "data": {
      "text/plain": [
       "count     200.0000\n",
       "mean     2010.1000\n",
       "std         6.2751\n",
       "min      2000.0000\n",
       "25%      2003.7500\n",
       "50%      2009.0000\n",
       "75%      2015.0000\n",
       "max      2022.0000\n",
       "Name: Year, dtype: float64"
      ]
     },
     "execution_count": 41,
     "metadata": {},
     "output_type": "execute_result"
    }
   ],
   "source": [
    "#Year info\n",
    "dataFrame['Year'].describe().transpose()"
   ]
  },
  {
   "cell_type": "markdown",
   "id": "greenhouse-certificate",
   "metadata": {},
   "source": [
    "### Duration column"
   ]
  },
  {
   "cell_type": "code",
   "execution_count": 42,
   "id": "knowing-generic",
   "metadata": {},
   "outputs": [
    {
     "name": "stdout",
     "output_type": "stream",
     "text": [
      "NA values:  23\n",
      "Proportions:  11 %\n"
     ]
    }
   ],
   "source": [
    "#determine the amount and proportion of NA cells in Duration column\n",
    "dur_na = dataFrame['Duration'].isna().sum()\n",
    "print(\"NA values: \", dur_na)\n",
    "\n",
    "#find the % proportion of garbages\n",
    "proportion = (dur_na * 100) // len(dataFrame.index)\n",
    "print(\"Proportions: \", proportion,\"%\")"
   ]
  },
  {
   "cell_type": "markdown",
   "id": "acceptable-northeast",
   "metadata": {},
   "source": [
    "Seems fine."
   ]
  },
  {
   "cell_type": "code",
   "execution_count": 43,
   "id": "synthetic-trader",
   "metadata": {},
   "outputs": [
    {
     "name": "stdout",
     "output_type": "stream",
     "text": [
      "Num. of NA (Duration):  23\n",
      "Median of Duration:  273.190074859357\n",
      "Num. of NA (Duration):  0\n"
     ]
    }
   ],
   "source": [
    "#display NA values\n",
    "print('Num. of NA (Duration): ', dataFrame['Duration'].isna().sum())\n",
    "\n",
    "#Fill NA values with Median\n",
    "median_of_dur = dataFrame['Duration'].median()\n",
    "print('Median of Duration: ', median_of_dur)\n",
    "dataFrame['Duration'] = dataFrame['Duration'].fillna(median_of_dur)\n",
    "print('Num. of NA (Duration): ', dataFrame['Duration'].isna().sum())"
   ]
  },
  {
   "cell_type": "code",
   "execution_count": 44,
   "id": "changed-rogers",
   "metadata": {},
   "outputs": [
    {
     "name": "stdout",
     "output_type": "stream",
     "text": [
      "Outlier(Duration)\n",
      " 64    239.522141\n",
      "Name: Duration, dtype: float64\n",
      "Replaced Outliers\n",
      "\n",
      "64 \t 273.190074859357\n"
     ]
    }
   ],
   "source": [
    "#Display outliers of Duration column and replace them with the median\n",
    "out_dur = find_outliers_IQR(dataFrame['Duration'])\n",
    "print('Outlier(Duration)\\n', str(out_dur))\n",
    "\n",
    "for i in out_dur.index:\n",
    "    val = out_dur[i]\n",
    "    dataFrame['Duration'] = dataFrame['Duration'].replace(to_replace = val, value = median_of_dur)\n",
    "    print(\"Replaced Outliers\\n\")\n",
    "    print(i, \"\\t\", dataFrame['Duration'][i])"
   ]
  },
  {
   "cell_type": "code",
   "execution_count": 45,
   "id": "neutral-repair",
   "metadata": {
    "scrolled": true
   },
   "outputs": [
    {
     "data": {
      "text/plain": [
       "count    200.000000\n",
       "mean     274.370429\n",
       "std       12.645504\n",
       "min      243.685578\n",
       "25%      266.820754\n",
       "50%      273.190075\n",
       "75%      282.852908\n",
       "max      306.783128\n",
       "Name: Duration, dtype: float64"
      ]
     },
     "execution_count": 45,
     "metadata": {},
     "output_type": "execute_result"
    }
   ],
   "source": [
    "#Duration info\n",
    "dataFrame['Duration'].describe().transpose()"
   ]
  },
  {
   "cell_type": "markdown",
   "id": "filled-audio",
   "metadata": {},
   "source": [
    "### Rating column"
   ]
  },
  {
   "cell_type": "code",
   "execution_count": 46,
   "id": "czech-thousand",
   "metadata": {},
   "outputs": [
    {
     "name": "stdout",
     "output_type": "stream",
     "text": [
      "Num. of NA (Rating in range):  0\n"
     ]
    }
   ],
   "source": [
    "# get the rating column in the range that is written in our data description, between 1 and 10\n",
    "df_inrange = dataFrame[(dataFrame['Rating'] <= 10) & (dataFrame['Rating'] >= 1)]\n",
    "print('Num. of NA (Rating in range): ', df_inrange['Rating'].isna().sum())\n",
    "dataFrame['Rating'] = df_inrange['Rating']"
   ]
  },
  {
   "cell_type": "code",
   "execution_count": 47,
   "id": "entire-freedom",
   "metadata": {},
   "outputs": [
    {
     "name": "stdout",
     "output_type": "stream",
     "text": [
      "NA values:  39\n",
      "Proportions:  19 %\n"
     ]
    }
   ],
   "source": [
    "#determine the amount and proportion of NA cells in Year column\n",
    "rat_na = dataFrame['Rating'].isna().sum()\n",
    "print(\"NA values: \", rat_na)\n",
    "\n",
    "#find the % proportion of garbages\n",
    "proportion = (rat_na * 100) // len(dataFrame.index)\n",
    "print(\"Proportions: \", proportion,\"%\")"
   ]
  },
  {
   "cell_type": "code",
   "execution_count": 48,
   "id": "listed-morocco",
   "metadata": {},
   "outputs": [
    {
     "name": "stdout",
     "output_type": "stream",
     "text": [
      "Num. of NA (Rating):  39\n",
      "Median of Rating:  4.41009717114297\n",
      "Num. of Na(Rating):  0\n"
     ]
    }
   ],
   "source": [
    "#display NA values\n",
    "print('Num. of NA (Rating): ', dataFrame['Rating'].isna().sum())\n",
    "\n",
    "#Fill NA values with Median\n",
    "median_of_rat = dataFrame['Rating'].median()\n",
    "print('Median of Rating: ', median_of_rat)\n",
    "dataFrame['Rating'] = dataFrame['Rating'].fillna(median_of_rat)\n",
    "print('Num. of Na(Rating): ', dataFrame['Rating'].isna().sum())"
   ]
  },
  {
   "cell_type": "code",
   "execution_count": 49,
   "id": "willing-nebraska",
   "metadata": {},
   "outputs": [
    {
     "name": "stdout",
     "output_type": "stream",
     "text": [
      "Outlier(Rating)\n",
      " 49     7.445626\n",
      "58     1.609460\n",
      "71     1.863155\n",
      "104    1.659008\n",
      "114    7.336382\n",
      "125    7.091118\n",
      "129    1.529494\n",
      "165    1.214859\n",
      "185    1.531479\n",
      "Name: Rating, dtype: float64\n",
      "Replaced Outliers\n",
      "\n",
      "49 \t 4.41009717114297\n",
      "Replaced Outliers\n",
      "\n",
      "58 \t 4.41009717114297\n",
      "Replaced Outliers\n",
      "\n",
      "71 \t 4.41009717114297\n",
      "Replaced Outliers\n",
      "\n",
      "104 \t 4.41009717114297\n",
      "Replaced Outliers\n",
      "\n",
      "114 \t 4.41009717114297\n",
      "Replaced Outliers\n",
      "\n",
      "125 \t 4.41009717114297\n",
      "Replaced Outliers\n",
      "\n",
      "129 \t 4.41009717114297\n",
      "Replaced Outliers\n",
      "\n",
      "165 \t 4.41009717114297\n",
      "Replaced Outliers\n",
      "\n",
      "185 \t 4.41009717114297\n"
     ]
    }
   ],
   "source": [
    "#Display outliers of Rating column and replace them with the median\n",
    "out_rat = find_outliers_IQR(dataFrame['Rating'])\n",
    "print('Outlier(Rating)\\n', str(out_rat))\n",
    "\n",
    "for i in out_rat.index:\n",
    "    val = out_rat[i]\n",
    "    dataFrame['Rating'] = dataFrame['Rating'].replace(to_replace = val, value = median_of_rat)\n",
    "    print(\"Replaced Outliers\\n\")\n",
    "    print(i, \"\\t\", dataFrame['Rating'][i])"
   ]
  },
  {
   "cell_type": "code",
   "execution_count": 50,
   "id": "metric-aberdeen",
   "metadata": {},
   "outputs": [
    {
     "data": {
      "text/plain": [
       "count    200.000000\n",
       "mean       4.469231\n",
       "std        0.953877\n",
       "min        2.316036\n",
       "25%        3.982299\n",
       "50%        4.410097\n",
       "75%        5.022093\n",
       "max        6.922160\n",
       "Name: Rating, dtype: float64"
      ]
     },
     "execution_count": 50,
     "metadata": {},
     "output_type": "execute_result"
    }
   ],
   "source": [
    "#Rating info\n",
    "dataFrame['Rating'].describe().transpose()"
   ]
  },
  {
   "cell_type": "markdown",
   "id": "supported-synthetic",
   "metadata": {},
   "source": [
    "## final steps of cleaning"
   ]
  },
  {
   "cell_type": "code",
   "execution_count": 51,
   "id": "forward-month",
   "metadata": {},
   "outputs": [
    {
     "data": {
      "text/plain": [
       "Gross                167\n",
       "Cost                 164\n",
       "Number of Viewers    168\n",
       "Year                  23\n",
       "Duration             176\n",
       "Outside                2\n",
       "Netflix                2\n",
       "Rating               152\n",
       "dtype: int64"
      ]
     },
     "execution_count": 51,
     "metadata": {},
     "output_type": "execute_result"
    }
   ],
   "source": [
    "#check for unique values\n",
    "dataFrame.nunique() "
   ]
  },
  {
   "cell_type": "markdown",
   "id": "confused-questionnaire",
   "metadata": {},
   "source": [
    "We believe that the reason we have unique values less than 200 for float column is that we filled NA values with median and mode and replaced outliers with the median, so some values should be the same. Also, by nature, some values might be equal, such as Year."
   ]
  },
  {
   "cell_type": "code",
   "execution_count": 52,
   "id": "governmental-growth",
   "metadata": {},
   "outputs": [
    {
     "data": {
      "text/plain": [
       "Gross                0\n",
       "Cost                 0\n",
       "Number of Viewers    0\n",
       "Year                 0\n",
       "Duration             0\n",
       "Outside              0\n",
       "Netflix              0\n",
       "Rating               0\n",
       "dtype: int64"
      ]
     },
     "execution_count": 52,
     "metadata": {},
     "output_type": "execute_result"
    }
   ],
   "source": [
    "dataFrame.isna().sum() # WE FINALLY HAVE NO NA VALUES!!!"
   ]
  },
  {
   "cell_type": "markdown",
   "id": "starting-specialist",
   "metadata": {},
   "source": [
    "### adding a Profit column"
   ]
  },
  {
   "cell_type": "code",
   "execution_count": 53,
   "id": "blank-annex",
   "metadata": {},
   "outputs": [],
   "source": [
    "#Let's add a Profit column, this will be useful for our research\n",
    "\n",
    "dataFrame['Profit (in USD)'] = dataFrame['Gross'] - dataFrame['Cost']"
   ]
  },
  {
   "cell_type": "code",
   "execution_count": 54,
   "id": "tested-bidder",
   "metadata": {},
   "outputs": [
    {
     "data": {
      "text/plain": [
       "0   -4.875855e+06\n",
       "1   -1.563687e+06\n",
       "2   -2.903600e+06\n",
       "3   -1.360433e+06\n",
       "4    3.158863e+05\n",
       "Name: Profit (in USD), dtype: float64"
      ]
     },
     "execution_count": 54,
     "metadata": {},
     "output_type": "execute_result"
    }
   ],
   "source": [
    "dataFrame['Profit (in USD)'].head()"
   ]
  },
  {
   "cell_type": "code",
   "execution_count": 55,
   "id": "waiting-carolina",
   "metadata": {},
   "outputs": [
    {
     "data": {
      "text/plain": [
       "195   -2.188706e+06\n",
       "196   -4.531211e+06\n",
       "197   -4.017372e+06\n",
       "198   -2.986879e+06\n",
       "199   -5.876864e+06\n",
       "Name: Profit (in USD), dtype: float64"
      ]
     },
     "execution_count": 55,
     "metadata": {},
     "output_type": "execute_result"
    }
   ],
   "source": [
    "dataFrame['Profit (in USD)'].tail()"
   ]
  },
  {
   "cell_type": "markdown",
   "id": "conventional-tracy",
   "metadata": {},
   "source": [
    "Hmm... Negative profits? İnteresting..."
   ]
  },
  {
   "cell_type": "code",
   "execution_count": 56,
   "id": "remarkable-forge",
   "metadata": {},
   "outputs": [
    {
     "name": "stdout",
     "output_type": "stream",
     "text": [
      "<class 'pandas.core.frame.DataFrame'>\n",
      "RangeIndex: 200 entries, 0 to 199\n",
      "Data columns (total 9 columns):\n",
      " #   Column             Non-Null Count  Dtype  \n",
      "---  ------             --------------  -----  \n",
      " 0   Gross              200 non-null    float64\n",
      " 1   Cost               200 non-null    float64\n",
      " 2   Number of Viewers  200 non-null    float64\n",
      " 3   Year               200 non-null    float64\n",
      " 4   Duration           200 non-null    float64\n",
      " 5   Outside            200 non-null    object \n",
      " 6   Netflix            200 non-null    object \n",
      " 7   Rating             200 non-null    float64\n",
      " 8   Profit (in USD)    200 non-null    float64\n",
      "dtypes: float64(7), object(2)\n",
      "memory usage: 14.2+ KB\n"
     ]
    }
   ],
   "source": [
    "# display descriptives again to see the new, cleaned data\n",
    "dataFrame.head()\n",
    "dataFrame.tail()\n",
    "dataFrame.info()"
   ]
  },
  {
   "cell_type": "code",
   "execution_count": 57,
   "id": "after-courtesy",
   "metadata": {
    "scrolled": true
   },
   "outputs": [
    {
     "data": {
      "text/plain": [
       "Gross                0\n",
       "Cost                 0\n",
       "Number of Viewers    0\n",
       "Year                 0\n",
       "Duration             0\n",
       "Outside              0\n",
       "Netflix              0\n",
       "Rating               0\n",
       "Profit (in USD)      0\n",
       "dtype: int64"
      ]
     },
     "execution_count": 57,
     "metadata": {},
     "output_type": "execute_result"
    }
   ],
   "source": [
    "dataFrame.isna().sum() # just for good measure"
   ]
  },
  {
   "cell_type": "markdown",
   "id": "respected-incident",
   "metadata": {},
   "source": [
    "## Rename columns properly"
   ]
  },
  {
   "cell_type": "markdown",
   "id": "treated-finland",
   "metadata": {},
   "source": [
    "It would be even nicer if column titles were more descriptive and contained units."
   ]
  },
  {
   "cell_type": "code",
   "execution_count": 58,
   "id": "allied-catalyst",
   "metadata": {},
   "outputs": [
    {
     "name": "stdout",
     "output_type": "stream",
     "text": [
      "<class 'pandas.core.frame.DataFrame'>\n",
      "RangeIndex: 200 entries, 0 to 199\n",
      "Data columns (total 9 columns):\n",
      " #   Column                           Non-Null Count  Dtype  \n",
      "---  ------                           --------------  -----  \n",
      " 0   Gross (in USD)                   200 non-null    float64\n",
      " 1   Cost (in USD)                    200 non-null    float64\n",
      " 2   Number of Viewers (in millions)  200 non-null    float64\n",
      " 3   Year                             200 non-null    float64\n",
      " 4   Duration (in minutes)            200 non-null    float64\n",
      " 5   Venue Outside of US?             200 non-null    object \n",
      " 6   Available on Netflix?            200 non-null    object \n",
      " 7   Rating (1-10)                    200 non-null    float64\n",
      " 8   Profit (in USD)                  200 non-null    float64\n",
      "dtypes: float64(7), object(2)\n",
      "memory usage: 14.2+ KB\n"
     ]
    }
   ],
   "source": [
    "dataFrame.rename(columns={'Gross': 'Gross (in USD)',\n",
    "                          'Cost': 'Cost (in USD)',\n",
    "                          'Duration' : 'Duration (in minutes)',\n",
    "                          'Outside' : 'Venue Outside of US?',\n",
    "                          'Netflix' : 'Available on Netflix?',\n",
    "                          'Rating' : 'Rating (1-10)',\n",
    "                          'Number of Viewers' : 'Number of Viewers (in millions)'}, inplace=True)\n",
    "dataFrame.info()"
   ]
  },
  {
   "cell_type": "code",
   "execution_count": 59,
   "id": "drawn-terror",
   "metadata": {},
   "outputs": [],
   "source": [
    "# as the final step of the cleaning, let's print this cleaned data to an excel spreadsheet\n",
    "dataFrame.to_excel('cleanDataWithProfit.xlsx')"
   ]
  }
 ],
 "metadata": {
  "kernelspec": {
   "display_name": "Python 3",
   "language": "python",
   "name": "python3"
  },
  "language_info": {
   "codemirror_mode": {
    "name": "ipython",
    "version": 3
   },
   "file_extension": ".py",
   "mimetype": "text/x-python",
   "name": "python",
   "nbconvert_exporter": "python",
   "pygments_lexer": "ipython3",
   "version": "3.9.2"
  },
  "vscode": {
   "interpreter": {
    "hash": "342d38b7afa2acdd8ebd0998d375467b01a08d7e689bfaa17c49950a48352e80"
   }
  }
 },
 "nbformat": 4,
 "nbformat_minor": 5
}
